{
 "cells": [
  {
   "cell_type": "markdown",
   "id": "89f40372",
   "metadata": {},
   "source": [
    "## 영화 장르 및 줄거리 기반 추천 모델 구현\n",
    "\n",
    "### 0) 데이터셋 설명\n",
    "#### tmdb_movies\n",
    "- id : 각 영화에 대한 고유 ID\n",
    "- title : 영화 제목\n",
    "- runtime : 상영 시간\n",
    "- genres : 영화 장르\n",
    "- overview : 영화에 대한 간략한 설명\n",
    "- popularity : TMDB에서 제공하는 인기도\n",
    "- vote_avearage : TMDB에서 받은 평점 평균\n",
    "- vote_count : TMDB에서 받은 투표수\n",
    "\n",
    "#### tmdb_credits\n",
    "- movie_id : 각 영화에 대한 고유 ID\n",
    "- cast : 모든 출연진\n",
    "- crew : 모든 제작진"
   ]
  },
  {
   "cell_type": "code",
   "execution_count": null,
   "id": "ad7d71c3",
   "metadata": {},
   "outputs": [],
   "source": [
    "import pandas as pd\n",
    "import joblib\n",
    "from sklearn.feature_extraction.text import TfidfVectorizer\n",
    "from sklearn.metrics.pairwise import cosine_similarity"
   ]
  },
  {
   "cell_type": "code",
   "execution_count": null,
   "id": "524b092e",
   "metadata": {},
   "outputs": [],
   "source": [
    "movies = pd.read_parquet('../dataset/tmdb_movies.parquet')\n",
    "credits = pd.read_parquet('../dataset/tmdb_credits.parquet')\n",
    "\n",
    "print(f\"movies: {movies.shape}\")\n",
    "display(movies.head())\n",
    "\n",
    "print(f\"credits: {credits.shape}\")\n",
    "display(credits.head())"
   ]
  },
  {
   "cell_type": "markdown",
   "id": "a5f370ee",
   "metadata": {},
   "source": [
    "### 1) 데이터 전처리"
   ]
  },
  {
   "cell_type": "code",
   "execution_count": null,
   "id": "ae033488",
   "metadata": {},
   "outputs": [],
   "source": [
    "movies['overview'].iloc[2]"
   ]
  },
  {
   "cell_type": "code",
   "execution_count": null,
   "id": "55f233f0",
   "metadata": {},
   "outputs": [],
   "source": [
    "## null값 확인\n",
    "movies['overview'].isnull().sum()"
   ]
  },
  {
   "cell_type": "code",
   "execution_count": null,
   "id": "f005e51e",
   "metadata": {},
   "outputs": [],
   "source": [
    "## 줄거리 결측치 처리 - dropna\n",
    "movies.dropna(subset=['overview'], inplace=True)\n",
    "\n",
    "movies['overview'].isnull().sum()"
   ]
  },
  {
   "cell_type": "code",
   "execution_count": null,
   "id": "36e0161f",
   "metadata": {},
   "outputs": [],
   "source": [
    "# 'genres' 컬럼의 문자열을 list 형식으로 변환\n",
    "\n",
    "movies['genres'] = movies['genres'].apply(eval)"
   ]
  },
  {
   "cell_type": "code",
   "execution_count": null,
   "id": "c8b22bdf",
   "metadata": {},
   "outputs": [],
   "source": [
    "# 장르 추출하여 'genre_names' 컬럼에 저장\n",
    "\n",
    "def get_genre_names(val):\n",
    "        return ' '.join([i.get('name','').lower() for i in val])\n",
    "\n",
    "movies['genres'] = movies['genres'].apply(get_genre_names)\n",
    "\n",
    "movies.head()"
   ]
  },
  {
   "cell_type": "code",
   "execution_count": null,
   "id": "062a7cd9",
   "metadata": {},
   "outputs": [],
   "source": [
    "# overview와 genres를 합쳐서 content 컬럼 생성\n",
    "\n",
    "movies['overview'] = movies['overview'].str.lower()\n",
    "movies['content'] = movies['overview'] + ' ' + movies['genres']\n",
    "\n",
    "movies.head()"
   ]
  },
  {
   "cell_type": "markdown",
   "metadata": {},
   "source": [
    "### 2) 데이터 벡터화"
   ]
  },
  {
   "cell_type": "code",
   "execution_count": null,
   "id": "080d1b0f",
   "metadata": {},
   "outputs": [],
   "source": [
    "## TF-IDF 벡터화\n",
    "\n",
    "tfidf = TfidfVectorizer(\n",
    "    lowercase=True,\n",
    "    stop_words='english'\n",
    ")\n",
    "tfidf_matrix = tfidf.fit_transform(movies['content'])\n",
    "\n",
    "tfidf_matrix.shape"
   ]
  },
  {
   "cell_type": "markdown",
   "id": "722e7812",
   "metadata": {},
   "source": [
    "### 3) 유사도 계산"
   ]
  },
  {
   "cell_type": "code",
   "execution_count": null,
   "id": "3f54b920",
   "metadata": {},
   "outputs": [],
   "source": [
    "# 코사인 유사도 계산\n",
    "\n",
    "contents_cos_sim = cosine_similarity(tfidf_matrix)\n",
    "\n",
    "contents_cos_sim.shape"
   ]
  },
  {
   "cell_type": "code",
   "execution_count": null,
   "id": "6a96b5fd",
   "metadata": {},
   "outputs": [],
   "source": [
    "# 특정 영화의 인덱스 추출\n",
    "\n",
    "movie_name = 'Avatar'\n",
    "\n",
    "idx = movies[movies['title'] == movie_name].index[0]\n",
    "idx"
   ]
  },
  {
   "cell_type": "code",
   "execution_count": null,
   "id": "7ec471bd",
   "metadata": {},
   "outputs": [],
   "source": [
    "# 유사도 점수 정렬\n",
    "\n",
    "sim_scores = list(enumerate(contents_cos_sim[idx]))\n",
    "\n",
    "sim_scores = sorted(sim_scores, key=lambda x:x[1], reverse=True)\n",
    "\n",
    "sim_scores"
   ]
  },
  {
   "cell_type": "code",
   "execution_count": null,
   "id": "13504f26",
   "metadata": {},
   "outputs": [],
   "source": [
    "# 추천 영화 정보 출력 (자기 자신 제외)\n",
    "\n",
    "movie_idx = [i[0] for i in sim_scores if i[0] != idx][:10]\n",
    "\n",
    "movies.iloc[movie_idx]"
   ]
  },
  {
   "cell_type": "markdown",
   "id": "33749b49",
   "metadata": {},
   "source": [
    "### 4) 추천 함수 생성"
   ]
  },
  {
   "cell_type": "code",
   "execution_count": null,
   "id": "0e1620ae",
   "metadata": {},
   "outputs": [],
   "source": [
    "## 컨텐츠 기반 영화 추천 함수 생성\n",
    "\n",
    "def contents_recommendation(\n",
    "    dataframe: pd.DataFrame, \n",
    "    movie_name: str,\n",
    "    sim_matrix,\n",
    "    top_n: int = 10,\n",
    "    ) -> pd.Series :\n",
    "\n",
    "    # movie_name이 대소문자 구분 없이 필터링되도록 처리\n",
    "    idx = dataframe[dataframe['title'].str.lower() == movie_name.lower()].index[0]\n",
    "\n",
    "    sim_scores = list(enumerate(sim_matrix[idx]))\n",
    "    sim_scores = sorted(sim_scores, key=lambda x:x[1], reverse=True)\n",
    "\n",
    "    movie_idx = [i[0] for i in sim_scores if i[0] != idx][:top_n]\n",
    "\n",
    "    return dataframe['title'].iloc[movie_idx]\n",
    "\n",
    "contents_recommendation(\n",
    "    dataframe=movies,\n",
    "    movie_name=movie_name,\n",
    "    sim_matrix=contents_cos_sim,\n",
    "    top_n=10\n",
    ")"
   ]
  },
  {
   "cell_type": "markdown",
   "id": "dc4e1e6d",
   "metadata": {},
   "source": [
    "### 5) 유사도 행렬 저장"
   ]
  },
  {
   "cell_type": "code",
   "execution_count": null,
   "metadata": {},
   "outputs": [],
   "source": [
    "joblib.dump(contents_cos_sim, \"../models/contents_cos_sim.pkl\")"
   ]
  }
 ],
 "metadata": {
  "kernelspec": {
   "display_name": "lecture",
   "language": "python",
   "name": "python3"
  },
  "language_info": {
   "codemirror_mode": {
    "name": "ipython",
    "version": 3
   },
   "file_extension": ".py",
   "mimetype": "text/x-python",
   "name": "python",
   "nbconvert_exporter": "python",
   "pygments_lexer": "ipython3",
   "version": "3.12.4"
  }
 },
 "nbformat": 4,
 "nbformat_minor": 5
}
