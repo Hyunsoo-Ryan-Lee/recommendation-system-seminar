{
 "cells": [
  {
   "cell_type": "markdown",
   "id": "89f40372",
   "metadata": {},
   "source": [
    "## 영화 인물 관련 정보(감독, 등장인물 등) 기반 추천 모델 구현\n",
    "\n",
    "### 0) 데이터셋 설명\n",
    "#### tmdb_movies\n",
    "- id : 각 영화에 대한 고유 ID\n",
    "- title : 영화 제목\n",
    "- runtime : 상영 시간\n",
    "- genres : 영화 장르\n",
    "- overview : 영화에 대한 간략한 설명\n",
    "- popularity : TMDB에서 제공하는 인기도\n",
    "- vote_avearage : TMDB에서 받은 평점 평균\n",
    "- vote_count : TMDB에서 받은 투표수\n",
    "\n",
    "#### tmdb_credits\n",
    "- movie_id : 각 영화에 대한 고유 ID\n",
    "- cast : 모든 출연진\n",
    "- crew : 모든 제작진"
   ]
  },
  {
   "cell_type": "code",
   "execution_count": 1,
   "id": "ad7d71c3",
   "metadata": {},
   "outputs": [],
   "source": [
    "import pandas as pd\n",
    "import joblib\n",
    "from sklearn.feature_extraction.text import TfidfVectorizer\n",
    "from sklearn.metrics.pairwise import cosine_similarity"
   ]
  },
  {
   "cell_type": "code",
   "execution_count": 2,
   "id": "524b092e",
   "metadata": {},
   "outputs": [
    {
     "name": "stdout",
     "output_type": "stream",
     "text": [
      "movies: (11813, 9)\n"
     ]
    },
    {
     "data": {
      "text/html": [
       "<div>\n",
       "<style scoped>\n",
       "    .dataframe tbody tr th:only-of-type {\n",
       "        vertical-align: middle;\n",
       "    }\n",
       "\n",
       "    .dataframe tbody tr th {\n",
       "        vertical-align: top;\n",
       "    }\n",
       "\n",
       "    .dataframe thead th {\n",
       "        text-align: right;\n",
       "    }\n",
       "</style>\n",
       "<table border=\"1\" class=\"dataframe\">\n",
       "  <thead>\n",
       "    <tr style=\"text-align: right;\">\n",
       "      <th></th>\n",
       "      <th>id</th>\n",
       "      <th>title</th>\n",
       "      <th>runtime</th>\n",
       "      <th>genres</th>\n",
       "      <th>overview</th>\n",
       "      <th>popularity</th>\n",
       "      <th>vote_average</th>\n",
       "      <th>vote_count</th>\n",
       "      <th>score</th>\n",
       "    </tr>\n",
       "  </thead>\n",
       "  <tbody>\n",
       "    <tr>\n",
       "      <th>0</th>\n",
       "      <td>65216</td>\n",
       "      <td>Bloody Cartoons</td>\n",
       "      <td>0</td>\n",
       "      <td>[]</td>\n",
       "      <td>Bloody Cartoons is a documentary about how and...</td>\n",
       "      <td>0.0071</td>\n",
       "      <td>7.0</td>\n",
       "      <td>2</td>\n",
       "      <td>4.81</td>\n",
       "    </tr>\n",
       "    <tr>\n",
       "      <th>1</th>\n",
       "      <td>69733</td>\n",
       "      <td>The Man-Eater</td>\n",
       "      <td>80</td>\n",
       "      <td>[{'id': 35, 'name': 'Comedy'}]</td>\n",
       "      <td>This is the story of a Sicilian woman that tri...</td>\n",
       "      <td>4.2009</td>\n",
       "      <td>5.0</td>\n",
       "      <td>39</td>\n",
       "      <td>4.81</td>\n",
       "    </tr>\n",
       "    <tr>\n",
       "      <th>2</th>\n",
       "      <td>202777</td>\n",
       "      <td>Peace in the Fields</td>\n",
       "      <td>91</td>\n",
       "      <td>[{'id': 18, 'name': 'Drama'}]</td>\n",
       "      <td>This is a film which was made in Belgium in th...</td>\n",
       "      <td>0.2568</td>\n",
       "      <td>6.1</td>\n",
       "      <td>4</td>\n",
       "      <td>4.81</td>\n",
       "    </tr>\n",
       "    <tr>\n",
       "      <th>3</th>\n",
       "      <td>115134</td>\n",
       "      <td>The Scent</td>\n",
       "      <td>117</td>\n",
       "      <td>[{'id': 35, 'name': 'Comedy'}, {'id': 80, 'nam...</td>\n",
       "      <td>A detective Seon-woo, who moonlights as a priv...</td>\n",
       "      <td>3.2696</td>\n",
       "      <td>5.8</td>\n",
       "      <td>23</td>\n",
       "      <td>4.83</td>\n",
       "    </tr>\n",
       "    <tr>\n",
       "      <th>4</th>\n",
       "      <td>130394</td>\n",
       "      <td>Here Come the Girls</td>\n",
       "      <td>78</td>\n",
       "      <td>[{'id': 35, 'name': 'Comedy'}, {'id': 10402, '...</td>\n",
       "      <td>Bob Hope stars as an inept member of the choru...</td>\n",
       "      <td>0.9136</td>\n",
       "      <td>4.4</td>\n",
       "      <td>7</td>\n",
       "      <td>4.80</td>\n",
       "    </tr>\n",
       "  </tbody>\n",
       "</table>\n",
       "</div>"
      ],
      "text/plain": [
       "       id                title  runtime  \\\n",
       "0   65216      Bloody Cartoons        0   \n",
       "1   69733        The Man-Eater       80   \n",
       "2  202777  Peace in the Fields       91   \n",
       "3  115134            The Scent      117   \n",
       "4  130394  Here Come the Girls       78   \n",
       "\n",
       "                                              genres  \\\n",
       "0                                                 []   \n",
       "1                     [{'id': 35, 'name': 'Comedy'}]   \n",
       "2                      [{'id': 18, 'name': 'Drama'}]   \n",
       "3  [{'id': 35, 'name': 'Comedy'}, {'id': 80, 'nam...   \n",
       "4  [{'id': 35, 'name': 'Comedy'}, {'id': 10402, '...   \n",
       "\n",
       "                                            overview  popularity  \\\n",
       "0  Bloody Cartoons is a documentary about how and...      0.0071   \n",
       "1  This is the story of a Sicilian woman that tri...      4.2009   \n",
       "2  This is a film which was made in Belgium in th...      0.2568   \n",
       "3  A detective Seon-woo, who moonlights as a priv...      3.2696   \n",
       "4  Bob Hope stars as an inept member of the choru...      0.9136   \n",
       "\n",
       "   vote_average  vote_count  score  \n",
       "0           7.0           2   4.81  \n",
       "1           5.0          39   4.81  \n",
       "2           6.1           4   4.81  \n",
       "3           5.8          23   4.83  \n",
       "4           4.4           7   4.80  "
      ]
     },
     "metadata": {},
     "output_type": "display_data"
    },
    {
     "name": "stdout",
     "output_type": "stream",
     "text": [
      "credits: (11813, 3)\n"
     ]
    },
    {
     "data": {
      "text/html": [
       "<div>\n",
       "<style scoped>\n",
       "    .dataframe tbody tr th:only-of-type {\n",
       "        vertical-align: middle;\n",
       "    }\n",
       "\n",
       "    .dataframe tbody tr th {\n",
       "        vertical-align: top;\n",
       "    }\n",
       "\n",
       "    .dataframe thead th {\n",
       "        text-align: right;\n",
       "    }\n",
       "</style>\n",
       "<table border=\"1\" class=\"dataframe\">\n",
       "  <thead>\n",
       "    <tr style=\"text-align: right;\">\n",
       "      <th></th>\n",
       "      <th>id</th>\n",
       "      <th>cast</th>\n",
       "      <th>crew</th>\n",
       "    </tr>\n",
       "  </thead>\n",
       "  <tbody>\n",
       "    <tr>\n",
       "      <th>0</th>\n",
       "      <td>65216</td>\n",
       "      <td>[]</td>\n",
       "      <td>[{'adult': False, 'gender': 0, 'id': 240716, '...</td>\n",
       "    </tr>\n",
       "    <tr>\n",
       "      <th>1</th>\n",
       "      <td>69733</td>\n",
       "      <td>[{'adult': False, 'gender': 1, 'id': 557004, '...</td>\n",
       "      <td>[{'adult': False, 'gender': 2, 'id': 126973, '...</td>\n",
       "    </tr>\n",
       "    <tr>\n",
       "      <th>2</th>\n",
       "      <td>202777</td>\n",
       "      <td>[{'adult': False, 'gender': 2, 'id': 44509, 'k...</td>\n",
       "      <td>[{'adult': False, 'gender': 0, 'id': 1185016, ...</td>\n",
       "    </tr>\n",
       "    <tr>\n",
       "      <th>3</th>\n",
       "      <td>115134</td>\n",
       "      <td>[{'adult': False, 'gender': 2, 'id': 93999, 'k...</td>\n",
       "      <td>[{'adult': False, 'gender': 0, 'id': 1292890, ...</td>\n",
       "    </tr>\n",
       "    <tr>\n",
       "      <th>4</th>\n",
       "      <td>130394</td>\n",
       "      <td>[{'adult': False, 'gender': 2, 'id': 82388, 'k...</td>\n",
       "      <td>[{'adult': False, 'gender': 2, 'id': 16042, 'k...</td>\n",
       "    </tr>\n",
       "  </tbody>\n",
       "</table>\n",
       "</div>"
      ],
      "text/plain": [
       "       id                                               cast  \\\n",
       "0   65216                                                 []   \n",
       "1   69733  [{'adult': False, 'gender': 1, 'id': 557004, '...   \n",
       "2  202777  [{'adult': False, 'gender': 2, 'id': 44509, 'k...   \n",
       "3  115134  [{'adult': False, 'gender': 2, 'id': 93999, 'k...   \n",
       "4  130394  [{'adult': False, 'gender': 2, 'id': 82388, 'k...   \n",
       "\n",
       "                                                crew  \n",
       "0  [{'adult': False, 'gender': 0, 'id': 240716, '...  \n",
       "1  [{'adult': False, 'gender': 2, 'id': 126973, '...  \n",
       "2  [{'adult': False, 'gender': 0, 'id': 1185016, ...  \n",
       "3  [{'adult': False, 'gender': 0, 'id': 1292890, ...  \n",
       "4  [{'adult': False, 'gender': 2, 'id': 16042, 'k...  "
      ]
     },
     "metadata": {},
     "output_type": "display_data"
    }
   ],
   "source": [
    "movies = pd.read_parquet('../dataset/tmdb_movies.parquet')\n",
    "credits = pd.read_parquet('../dataset/tmdb_credits.parquet')\n",
    "\n",
    "print(f\"movies: {movies.shape}\")\n",
    "display(movies.head())\n",
    "\n",
    "print(f\"credits: {credits.shape}\")\n",
    "display(credits.head())"
   ]
  },
  {
   "cell_type": "markdown",
   "id": "7378d4d3",
   "metadata": {},
   "source": [
    "### 1) 데이터 전처리"
   ]
  },
  {
   "cell_type": "code",
   "execution_count": 3,
   "id": "1cbfe5eb",
   "metadata": {},
   "outputs": [],
   "source": [
    "df = movies.merge(credits, on='id')"
   ]
  },
  {
   "cell_type": "code",
   "execution_count": 4,
   "id": "ad6b6283",
   "metadata": {},
   "outputs": [
    {
     "data": {
      "text/html": [
       "<div>\n",
       "<style scoped>\n",
       "    .dataframe tbody tr th:only-of-type {\n",
       "        vertical-align: middle;\n",
       "    }\n",
       "\n",
       "    .dataframe tbody tr th {\n",
       "        vertical-align: top;\n",
       "    }\n",
       "\n",
       "    .dataframe thead th {\n",
       "        text-align: right;\n",
       "    }\n",
       "</style>\n",
       "<table border=\"1\" class=\"dataframe\">\n",
       "  <thead>\n",
       "    <tr style=\"text-align: right;\">\n",
       "      <th></th>\n",
       "      <th>genres</th>\n",
       "      <th>cast</th>\n",
       "      <th>crew</th>\n",
       "    </tr>\n",
       "  </thead>\n",
       "  <tbody>\n",
       "    <tr>\n",
       "      <th>0</th>\n",
       "      <td>[]</td>\n",
       "      <td>[]</td>\n",
       "      <td>[{'adult': False, 'gender': 0, 'id': 240716, '...</td>\n",
       "    </tr>\n",
       "    <tr>\n",
       "      <th>1</th>\n",
       "      <td>[{'id': 35, 'name': 'Comedy'}]</td>\n",
       "      <td>[{'adult': False, 'gender': 1, 'id': 557004, '...</td>\n",
       "      <td>[{'adult': False, 'gender': 2, 'id': 126973, '...</td>\n",
       "    </tr>\n",
       "    <tr>\n",
       "      <th>2</th>\n",
       "      <td>[{'id': 18, 'name': 'Drama'}]</td>\n",
       "      <td>[{'adult': False, 'gender': 2, 'id': 44509, 'k...</td>\n",
       "      <td>[{'adult': False, 'gender': 0, 'id': 1185016, ...</td>\n",
       "    </tr>\n",
       "    <tr>\n",
       "      <th>3</th>\n",
       "      <td>[{'id': 35, 'name': 'Comedy'}, {'id': 80, 'nam...</td>\n",
       "      <td>[{'adult': False, 'gender': 2, 'id': 93999, 'k...</td>\n",
       "      <td>[{'adult': False, 'gender': 0, 'id': 1292890, ...</td>\n",
       "    </tr>\n",
       "    <tr>\n",
       "      <th>4</th>\n",
       "      <td>[{'id': 35, 'name': 'Comedy'}, {'id': 10402, '...</td>\n",
       "      <td>[{'adult': False, 'gender': 2, 'id': 82388, 'k...</td>\n",
       "      <td>[{'adult': False, 'gender': 2, 'id': 16042, 'k...</td>\n",
       "    </tr>\n",
       "  </tbody>\n",
       "</table>\n",
       "</div>"
      ],
      "text/plain": [
       "                                              genres  \\\n",
       "0                                                 []   \n",
       "1                     [{'id': 35, 'name': 'Comedy'}]   \n",
       "2                      [{'id': 18, 'name': 'Drama'}]   \n",
       "3  [{'id': 35, 'name': 'Comedy'}, {'id': 80, 'nam...   \n",
       "4  [{'id': 35, 'name': 'Comedy'}, {'id': 10402, '...   \n",
       "\n",
       "                                                cast  \\\n",
       "0                                                 []   \n",
       "1  [{'adult': False, 'gender': 1, 'id': 557004, '...   \n",
       "2  [{'adult': False, 'gender': 2, 'id': 44509, 'k...   \n",
       "3  [{'adult': False, 'gender': 2, 'id': 93999, 'k...   \n",
       "4  [{'adult': False, 'gender': 2, 'id': 82388, 'k...   \n",
       "\n",
       "                                                crew  \n",
       "0  [{'adult': False, 'gender': 0, 'id': 240716, '...  \n",
       "1  [{'adult': False, 'gender': 2, 'id': 126973, '...  \n",
       "2  [{'adult': False, 'gender': 0, 'id': 1185016, ...  \n",
       "3  [{'adult': False, 'gender': 0, 'id': 1292890, ...  \n",
       "4  [{'adult': False, 'gender': 2, 'id': 16042, 'k...  "
      ]
     },
     "execution_count": 4,
     "metadata": {},
     "output_type": "execute_result"
    }
   ],
   "source": [
    "# 필요 컬럼 추출\n",
    "\n",
    "info_col = ['genres', 'cast', 'crew']\n",
    "\n",
    "df = df[info_col]\n",
    "\n",
    "df.head()"
   ]
  },
  {
   "cell_type": "code",
   "execution_count": 5,
   "id": "de22fa93",
   "metadata": {},
   "outputs": [
    {
     "data": {
      "text/plain": [
       "genres    object\n",
       "cast      object\n",
       "crew      object\n",
       "dtype: object"
      ]
     },
     "execution_count": 5,
     "metadata": {},
     "output_type": "execute_result"
    }
   ],
   "source": [
    "# 각 컬럼의 문자열을 list 형식으로 변환\n",
    "\n",
    "for col in info_col:\n",
    "    df[col] = df[col].apply(eval)\n",
    "    \n",
    "df.dtypes"
   ]
  },
  {
   "cell_type": "markdown",
   "id": "b9e1dba8",
   "metadata": {},
   "source": [
    "### 2) genre 컬럼 전처리\n",
    "- lower\n",
    "- 공백 기준 join\n",
    "- 특수문자 제거"
   ]
  },
  {
   "cell_type": "code",
   "execution_count": 6,
   "id": "fc377139",
   "metadata": {},
   "outputs": [],
   "source": [
    "# 장르 추출하여 'genre_names' 컬럼에 저장\n",
    "\n",
    "def get_genre_names(val):\n",
    "        return ' '.join([i.get('name','').lower() for i in val])\n",
    "\n",
    "df['genres'] = df['genres'].apply(get_genre_names)"
   ]
  },
  {
   "cell_type": "code",
   "execution_count": 7,
   "id": "5017be75",
   "metadata": {},
   "outputs": [
    {
     "data": {
      "text/html": [
       "<div>\n",
       "<style scoped>\n",
       "    .dataframe tbody tr th:only-of-type {\n",
       "        vertical-align: middle;\n",
       "    }\n",
       "\n",
       "    .dataframe tbody tr th {\n",
       "        vertical-align: top;\n",
       "    }\n",
       "\n",
       "    .dataframe thead th {\n",
       "        text-align: right;\n",
       "    }\n",
       "</style>\n",
       "<table border=\"1\" class=\"dataframe\">\n",
       "  <thead>\n",
       "    <tr style=\"text-align: right;\">\n",
       "      <th></th>\n",
       "      <th>genres</th>\n",
       "      <th>cast</th>\n",
       "      <th>crew</th>\n",
       "    </tr>\n",
       "  </thead>\n",
       "  <tbody>\n",
       "    <tr>\n",
       "      <th>0</th>\n",
       "      <td></td>\n",
       "      <td>[]</td>\n",
       "      <td>[{'adult': False, 'gender': 0, 'id': 240716, '...</td>\n",
       "    </tr>\n",
       "    <tr>\n",
       "      <th>1</th>\n",
       "      <td>comedy</td>\n",
       "      <td>[{'adult': False, 'gender': 1, 'id': 557004, '...</td>\n",
       "      <td>[{'adult': False, 'gender': 2, 'id': 126973, '...</td>\n",
       "    </tr>\n",
       "    <tr>\n",
       "      <th>2</th>\n",
       "      <td>drama</td>\n",
       "      <td>[{'adult': False, 'gender': 2, 'id': 44509, 'k...</td>\n",
       "      <td>[{'adult': False, 'gender': 0, 'id': 1185016, ...</td>\n",
       "    </tr>\n",
       "    <tr>\n",
       "      <th>3</th>\n",
       "      <td>comedy crime thriller</td>\n",
       "      <td>[{'adult': False, 'gender': 2, 'id': 93999, 'k...</td>\n",
       "      <td>[{'adult': False, 'gender': 0, 'id': 1292890, ...</td>\n",
       "    </tr>\n",
       "    <tr>\n",
       "      <th>4</th>\n",
       "      <td>comedy music</td>\n",
       "      <td>[{'adult': False, 'gender': 2, 'id': 82388, 'k...</td>\n",
       "      <td>[{'adult': False, 'gender': 2, 'id': 16042, 'k...</td>\n",
       "    </tr>\n",
       "  </tbody>\n",
       "</table>\n",
       "</div>"
      ],
      "text/plain": [
       "                  genres                                               cast  \\\n",
       "0                                                                        []   \n",
       "1                 comedy  [{'adult': False, 'gender': 1, 'id': 557004, '...   \n",
       "2                  drama  [{'adult': False, 'gender': 2, 'id': 44509, 'k...   \n",
       "3  comedy crime thriller  [{'adult': False, 'gender': 2, 'id': 93999, 'k...   \n",
       "4           comedy music  [{'adult': False, 'gender': 2, 'id': 82388, 'k...   \n",
       "\n",
       "                                                crew  \n",
       "0  [{'adult': False, 'gender': 0, 'id': 240716, '...  \n",
       "1  [{'adult': False, 'gender': 2, 'id': 126973, '...  \n",
       "2  [{'adult': False, 'gender': 0, 'id': 1185016, ...  \n",
       "3  [{'adult': False, 'gender': 0, 'id': 1292890, ...  \n",
       "4  [{'adult': False, 'gender': 2, 'id': 16042, 'k...  "
      ]
     },
     "execution_count": 7,
     "metadata": {},
     "output_type": "execute_result"
    }
   ],
   "source": [
    "df.head()"
   ]
  },
  {
   "cell_type": "markdown",
   "id": "d38de9b6",
   "metadata": {},
   "source": [
    "### 3) cast 컬럼 전처리"
   ]
  },
  {
   "cell_type": "code",
   "execution_count": 10,
   "id": "ba3e8c9f",
   "metadata": {},
   "outputs": [
    {
     "name": "stdout",
     "output_type": "stream",
     "text": [
      "[{'adult': False, 'gender': 1, 'id': 557004, 'known_for_department': 'Acting', 'name': 'Loredana Cannata', 'original_name': 'Loredana Cannata', 'popularity': 1.0935, 'profile_path': '/vOGrntUNUw3WDAIH3x62NbCcHic.jpg', 'cast_id': 4, 'character': 'Giulia', 'credit_id': '52fe47d8c3a368484e0dcc0d', 'order': 0}, {'adult': False, 'gender': 2, 'id': 232666, 'known_for_department': 'Production', 'name': 'Arturo Paglia', 'original_name': 'Arturo Paglia', 'popularity': 0.1611, 'profile_path': '/ikyxWD98uLPpYXxlGXpTqbznUwp.jpg', 'cast_id': 5, 'character': 'Valerio', 'credit_id': '52fe47d8c3a368484e0dcc11', 'order': 1}, {'adult': False, 'gender': 2, 'id': 105342, 'known_for_department': 'Acting', 'name': 'Pascal Persiano', 'original_name': 'Pascal Persiano', 'popularity': 2.5802, 'profile_path': '/kIaJ65txI2f89bW4NrQX8LxZCRK.jpg', 'cast_id': 7, 'character': \"l'amante della piscina\", 'credit_id': '5522acb9c3a3685733001977', 'order': 2}, {'adult': False, 'gender': 1, 'id': 557005, 'known_for_department': 'Acting', 'name': 'Loredana Solfizi', 'original_name': 'Loredana Solfizi', 'popularity': 0.1226, 'profile_path': '/edXrEEdyroz8FK9xsMeBUfoc2RD.jpg', 'cast_id': 6, 'character': 'madre di Valerio', 'credit_id': '52fe47d8c3a368484e0dcc15', 'order': 3}, {'adult': False, 'gender': 0, 'id': 1450611, 'known_for_department': 'Acting', 'name': 'Gianluca Cuomo', 'original_name': 'Gianluca Cuomo', 'popularity': 0.0286, 'profile_path': None, 'cast_id': 9, 'character': 'Giovanni', 'credit_id': '5522ace592514166c100041c', 'order': 4}, {'adult': False, 'gender': 2, 'id': 556722, 'known_for_department': 'Acting', 'name': 'Francesco Di Leva', 'original_name': 'Francesco Di Leva', 'popularity': 0.4183, 'profile_path': '/xL8SDKg4Jp9ibtn9Mlw4oQVUaK5.jpg', 'cast_id': 8, 'character': 'Francesco', 'credit_id': '5522acd3c3a368573300197a', 'order': 5}, {'adult': False, 'gender': 2, 'id': 1450612, 'known_for_department': 'Acting', 'name': 'Marcello Aiello', 'original_name': 'Marcello Aiello', 'popularity': 0.0143, 'profile_path': None, 'cast_id': 10, 'character': '', 'credit_id': '5522ad0692514171cb003816', 'order': 6}, {'adult': False, 'gender': 0, 'id': 1450613, 'known_for_department': 'Acting', 'name': 'Johnny Scavone', 'original_name': 'Johnny Scavone', 'popularity': 0.0214, 'profile_path': None, 'cast_id': 11, 'character': '', 'credit_id': '5522ad18c3a368333a003de2', 'order': 7}, {'adult': False, 'gender': 0, 'id': 1450614, 'known_for_department': 'Acting', 'name': 'Massimiliano Lagonaro', 'original_name': 'Massimiliano Lagonaro', 'popularity': 0.0143, 'profile_path': None, 'cast_id': 12, 'character': '', 'credit_id': '5522ad2e92514171cb00381c', 'order': 8}, {'adult': False, 'gender': 1, 'id': 4605313, 'known_for_department': 'Directing', 'name': 'Nicole Alexandropoulos', 'original_name': 'Nicole Alexandropoulos', 'popularity': 0.0362, 'profile_path': None, 'cast_id': 21, 'character': '', 'credit_id': '670bb382bbb1a9e81c6200d0', 'order': 9}, {'adult': False, 'gender': 0, 'id': 1106022, 'known_for_department': 'Acting', 'name': 'Marta Bifano', 'original_name': 'Marta Bifano', 'popularity': 0.095, 'profile_path': '/4Q0VWzgMWJrJRCDRvwwOiYKdpmz.jpg', 'cast_id': 14, 'character': '', 'credit_id': '5522ad54c3a36828d1003dbc', 'order': 10}]\n"
     ]
    }
   ],
   "source": [
    "print(df['cast'].loc[1])"
   ]
  },
  {
   "cell_type": "code",
   "execution_count": 11,
   "id": "36a876cf",
   "metadata": {},
   "outputs": [],
   "source": [
    "import re\n",
    "\n",
    "# cast 컬럼의 값에서 name 키만 추출하여 빈칸 기준으로 join하는 함수\n",
    "def extract_cast(val):\n",
    "    # val이 리스트가 아닐 경우(결측치 등) 예외 처리\n",
    "    if not isinstance(val, list):\n",
    "        return_val =  \"\"\n",
    "    \n",
    "    # name 키의 값을 추출하여 빈킨 기준으로 join\n",
    "    names = [i.get('name', '').lower().strip().replace(\" \", \"\") for i in val]\n",
    "    \n",
    "    # 알파벳과 숫자를 제외한 모든 문자를 제거하는 정규표현식 적용(특수문자, 공백 등을 모두 제거)\n",
    "    names = [re.sub(r'[^a-zA-Z0-9]', '',i) for i in names]\n",
    "    \n",
    "    # 등장 인물 6명까지만 포함\n",
    "    if len(names) > 6:\n",
    "        names = names[:6]\n",
    "    \n",
    "    return_val = ' '.join(names)\n",
    "    \n",
    "    return return_val\n",
    "    \n",
    "df['cast'] = df['cast'].apply(extract_cast)"
   ]
  },
  {
   "cell_type": "code",
   "execution_count": 12,
   "id": "74ae54d1",
   "metadata": {},
   "outputs": [
    {
     "data": {
      "text/html": [
       "<div>\n",
       "<style scoped>\n",
       "    .dataframe tbody tr th:only-of-type {\n",
       "        vertical-align: middle;\n",
       "    }\n",
       "\n",
       "    .dataframe tbody tr th {\n",
       "        vertical-align: top;\n",
       "    }\n",
       "\n",
       "    .dataframe thead th {\n",
       "        text-align: right;\n",
       "    }\n",
       "</style>\n",
       "<table border=\"1\" class=\"dataframe\">\n",
       "  <thead>\n",
       "    <tr style=\"text-align: right;\">\n",
       "      <th></th>\n",
       "      <th>genres</th>\n",
       "      <th>cast</th>\n",
       "      <th>crew</th>\n",
       "    </tr>\n",
       "  </thead>\n",
       "  <tbody>\n",
       "    <tr>\n",
       "      <th>0</th>\n",
       "      <td></td>\n",
       "      <td></td>\n",
       "      <td>[{'adult': False, 'gender': 0, 'id': 240716, '...</td>\n",
       "    </tr>\n",
       "    <tr>\n",
       "      <th>1</th>\n",
       "      <td>comedy</td>\n",
       "      <td>loredanacannata arturopaglia pascalpersiano lo...</td>\n",
       "      <td>[{'adult': False, 'gender': 2, 'id': 126973, '...</td>\n",
       "    </tr>\n",
       "    <tr>\n",
       "      <th>2</th>\n",
       "      <td>drama</td>\n",
       "      <td>christianbarbier georgespoujouly clairewauthio...</td>\n",
       "      <td>[{'adult': False, 'gender': 0, 'id': 1185016, ...</td>\n",
       "    </tr>\n",
       "    <tr>\n",
       "      <th>3</th>\n",
       "      <td>comedy crime thriller</td>\n",
       "      <td>parkheesoon parksiyeon jusanguk kimjungtae lee...</td>\n",
       "      <td>[{'adult': False, 'gender': 0, 'id': 1292890, ...</td>\n",
       "    </tr>\n",
       "    <tr>\n",
       "      <th>4</th>\n",
       "      <td>comedy music</td>\n",
       "      <td>bobhope tonymartin arlenedahl rosemaryclooney ...</td>\n",
       "      <td>[{'adult': False, 'gender': 2, 'id': 16042, 'k...</td>\n",
       "    </tr>\n",
       "  </tbody>\n",
       "</table>\n",
       "</div>"
      ],
      "text/plain": [
       "                  genres                                               cast  \\\n",
       "0                                                                             \n",
       "1                 comedy  loredanacannata arturopaglia pascalpersiano lo...   \n",
       "2                  drama  christianbarbier georgespoujouly clairewauthio...   \n",
       "3  comedy crime thriller  parkheesoon parksiyeon jusanguk kimjungtae lee...   \n",
       "4           comedy music  bobhope tonymartin arlenedahl rosemaryclooney ...   \n",
       "\n",
       "                                                crew  \n",
       "0  [{'adult': False, 'gender': 0, 'id': 240716, '...  \n",
       "1  [{'adult': False, 'gender': 2, 'id': 126973, '...  \n",
       "2  [{'adult': False, 'gender': 0, 'id': 1185016, ...  \n",
       "3  [{'adult': False, 'gender': 0, 'id': 1292890, ...  \n",
       "4  [{'adult': False, 'gender': 2, 'id': 16042, 'k...  "
      ]
     },
     "execution_count": 12,
     "metadata": {},
     "output_type": "execute_result"
    }
   ],
   "source": [
    "df.head(5)"
   ]
  },
  {
   "cell_type": "markdown",
   "id": "3ccc7db9",
   "metadata": {},
   "source": [
    "### 4) crew 컬럼 전처리"
   ]
  },
  {
   "cell_type": "code",
   "execution_count": 13,
   "id": "aeb7fff7",
   "metadata": {},
   "outputs": [
    {
     "name": "stdout",
     "output_type": "stream",
     "text": [
      "[{'adult': False, 'gender': 2, 'id': 89602, 'known_for_department': 'Acting', 'name': \"Roscoe 'Fatty' Arbuckle\", 'original_name': \"Roscoe 'Fatty' Arbuckle\", 'popularity': 0.131, 'profile_path': '/p0pR1wMRfRfLWZfdHywQcqph8vp.jpg', 'credit_id': '52fe4cc19251416c75124987', 'department': 'Directing', 'job': 'Director'}, {'adult': False, 'gender': 2, 'id': 89602, 'known_for_department': 'Acting', 'name': \"Roscoe 'Fatty' Arbuckle\", 'original_name': \"Roscoe 'Fatty' Arbuckle\", 'popularity': 0.131, 'profile_path': '/p0pR1wMRfRfLWZfdHywQcqph8vp.jpg', 'credit_id': '56f0680dc3a3687177000998', 'department': 'Writing', 'job': 'Writer'}]\n"
     ]
    }
   ],
   "source": [
    "print(df['crew'].iloc[10])"
   ]
  },
  {
   "cell_type": "code",
   "execution_count": null,
   "id": "8921eec5",
   "metadata": {},
   "outputs": [],
   "source": [
    "# crew 컬럼에서 director 키의 값만 추출\n",
    "def extract_crew(val):\n",
    "    # val이 리스트가 아닐 경우(결측치 등) 예외 처리\n",
    "    if not isinstance(val, list):\n",
    "        return \"\"\n",
    "    for i in val:\n",
    "        if i['job'] == 'Director':\n",
    "            return i['name'].lower().strip().replace(\" \", \"\")\n",
    "        \n",
    "df['crew'] = df['crew'].apply(extract_crew)"
   ]
  },
  {
   "cell_type": "code",
   "execution_count": 15,
   "id": "3f8be694",
   "metadata": {},
   "outputs": [
    {
     "data": {
      "text/html": [
       "<div>\n",
       "<style scoped>\n",
       "    .dataframe tbody tr th:only-of-type {\n",
       "        vertical-align: middle;\n",
       "    }\n",
       "\n",
       "    .dataframe tbody tr th {\n",
       "        vertical-align: top;\n",
       "    }\n",
       "\n",
       "    .dataframe thead th {\n",
       "        text-align: right;\n",
       "    }\n",
       "</style>\n",
       "<table border=\"1\" class=\"dataframe\">\n",
       "  <thead>\n",
       "    <tr style=\"text-align: right;\">\n",
       "      <th></th>\n",
       "      <th>genres</th>\n",
       "      <th>cast</th>\n",
       "      <th>crew</th>\n",
       "    </tr>\n",
       "  </thead>\n",
       "  <tbody>\n",
       "    <tr>\n",
       "      <th>0</th>\n",
       "      <td></td>\n",
       "      <td></td>\n",
       "      <td>karstenkjær</td>\n",
       "    </tr>\n",
       "    <tr>\n",
       "      <th>1</th>\n",
       "      <td>comedy</td>\n",
       "      <td>loredanacannata arturopaglia pascalpersiano lo...</td>\n",
       "      <td>aureliogrimaldi</td>\n",
       "    </tr>\n",
       "    <tr>\n",
       "      <th>2</th>\n",
       "      <td>drama</td>\n",
       "      <td>christianbarbier georgespoujouly clairewauthio...</td>\n",
       "      <td>jacquesboigelot</td>\n",
       "    </tr>\n",
       "    <tr>\n",
       "      <th>3</th>\n",
       "      <td>comedy crime thriller</td>\n",
       "      <td>parkheesoon parksiyeon jusanguk kimjungtae lee...</td>\n",
       "      <td>kimhyoung-jun</td>\n",
       "    </tr>\n",
       "    <tr>\n",
       "      <th>4</th>\n",
       "      <td>comedy music</td>\n",
       "      <td>bobhope tonymartin arlenedahl rosemaryclooney ...</td>\n",
       "      <td>claudebinyon</td>\n",
       "    </tr>\n",
       "  </tbody>\n",
       "</table>\n",
       "</div>"
      ],
      "text/plain": [
       "                  genres                                               cast  \\\n",
       "0                                                                             \n",
       "1                 comedy  loredanacannata arturopaglia pascalpersiano lo...   \n",
       "2                  drama  christianbarbier georgespoujouly clairewauthio...   \n",
       "3  comedy crime thriller  parkheesoon parksiyeon jusanguk kimjungtae lee...   \n",
       "4           comedy music  bobhope tonymartin arlenedahl rosemaryclooney ...   \n",
       "\n",
       "              crew  \n",
       "0      karstenkjær  \n",
       "1  aureliogrimaldi  \n",
       "2  jacquesboigelot  \n",
       "3    kimhyoung-jun  \n",
       "4     claudebinyon  "
      ]
     },
     "execution_count": 15,
     "metadata": {},
     "output_type": "execute_result"
    }
   ],
   "source": [
    "df.head()"
   ]
  },
  {
   "cell_type": "markdown",
   "id": "e67224e5",
   "metadata": {},
   "source": [
    "### 5) feature 컬럼 생성 (genre + cast + crew)"
   ]
  },
  {
   "cell_type": "code",
   "execution_count": 16,
   "id": "60c3ee1c",
   "metadata": {},
   "outputs": [
    {
     "data": {
      "text/html": [
       "<div>\n",
       "<style scoped>\n",
       "    .dataframe tbody tr th:only-of-type {\n",
       "        vertical-align: middle;\n",
       "    }\n",
       "\n",
       "    .dataframe tbody tr th {\n",
       "        vertical-align: top;\n",
       "    }\n",
       "\n",
       "    .dataframe thead th {\n",
       "        text-align: right;\n",
       "    }\n",
       "</style>\n",
       "<table border=\"1\" class=\"dataframe\">\n",
       "  <thead>\n",
       "    <tr style=\"text-align: right;\">\n",
       "      <th></th>\n",
       "      <th>genres</th>\n",
       "      <th>cast</th>\n",
       "      <th>crew</th>\n",
       "      <th>feature</th>\n",
       "    </tr>\n",
       "  </thead>\n",
       "  <tbody>\n",
       "    <tr>\n",
       "      <th>0</th>\n",
       "      <td></td>\n",
       "      <td></td>\n",
       "      <td>karstenkjær</td>\n",
       "      <td>karstenkjær</td>\n",
       "    </tr>\n",
       "    <tr>\n",
       "      <th>1</th>\n",
       "      <td>comedy</td>\n",
       "      <td>loredanacannata arturopaglia pascalpersiano lo...</td>\n",
       "      <td>aureliogrimaldi</td>\n",
       "      <td>comedy loredanacannata arturopaglia pascalpers...</td>\n",
       "    </tr>\n",
       "    <tr>\n",
       "      <th>2</th>\n",
       "      <td>drama</td>\n",
       "      <td>christianbarbier georgespoujouly clairewauthio...</td>\n",
       "      <td>jacquesboigelot</td>\n",
       "      <td>drama christianbarbier georgespoujouly clairew...</td>\n",
       "    </tr>\n",
       "    <tr>\n",
       "      <th>3</th>\n",
       "      <td>comedy crime thriller</td>\n",
       "      <td>parkheesoon parksiyeon jusanguk kimjungtae lee...</td>\n",
       "      <td>kimhyoung-jun</td>\n",
       "      <td>comedy crime thriller parkheesoon parksiyeon j...</td>\n",
       "    </tr>\n",
       "    <tr>\n",
       "      <th>4</th>\n",
       "      <td>comedy music</td>\n",
       "      <td>bobhope tonymartin arlenedahl rosemaryclooney ...</td>\n",
       "      <td>claudebinyon</td>\n",
       "      <td>comedy music bobhope tonymartin arlenedahl ros...</td>\n",
       "    </tr>\n",
       "  </tbody>\n",
       "</table>\n",
       "</div>"
      ],
      "text/plain": [
       "                  genres                                               cast  \\\n",
       "0                                                                             \n",
       "1                 comedy  loredanacannata arturopaglia pascalpersiano lo...   \n",
       "2                  drama  christianbarbier georgespoujouly clairewauthio...   \n",
       "3  comedy crime thriller  parkheesoon parksiyeon jusanguk kimjungtae lee...   \n",
       "4           comedy music  bobhope tonymartin arlenedahl rosemaryclooney ...   \n",
       "\n",
       "              crew                                            feature  \n",
       "0      karstenkjær                                        karstenkjær  \n",
       "1  aureliogrimaldi  comedy loredanacannata arturopaglia pascalpers...  \n",
       "2  jacquesboigelot  drama christianbarbier georgespoujouly clairew...  \n",
       "3    kimhyoung-jun  comedy crime thriller parkheesoon parksiyeon j...  \n",
       "4     claudebinyon  comedy music bobhope tonymartin arlenedahl ros...  "
      ]
     },
     "execution_count": 16,
     "metadata": {},
     "output_type": "execute_result"
    }
   ],
   "source": [
    "# genres, cast, crew 컬럼을 빈칸 기준으로 합쳐서 feature 컬럼 생성\n",
    "df['feature'] = df['genres'].astype(str) + ' ' + df['cast'].astype(str) + ' ' + df['crew'].astype(str)\n",
    "\n",
    "df.head()"
   ]
  },
  {
   "cell_type": "code",
   "execution_count": 18,
   "id": "9821e1f3",
   "metadata": {},
   "outputs": [
    {
     "data": {
      "text/plain": [
       "\"comedy alstjohn bartineburkett waltercreed johnsinclair roscoe'fatty'arbuckle\""
      ]
     },
     "execution_count": 18,
     "metadata": {},
     "output_type": "execute_result"
    }
   ],
   "source": [
    "df['feature'].loc[10]"
   ]
  },
  {
   "cell_type": "markdown",
   "id": "e2579d28",
   "metadata": {},
   "source": [
    "### 6) 데이터 벡터화"
   ]
  },
  {
   "cell_type": "code",
   "execution_count": 19,
   "id": "fa39354a",
   "metadata": {},
   "outputs": [
    {
     "data": {
      "text/plain": [
       "(11813, 40120)"
      ]
     },
     "execution_count": 19,
     "metadata": {},
     "output_type": "execute_result"
    }
   ],
   "source": [
    "## TF-IDF 벡터화\n",
    "\n",
    "tfidf = TfidfVectorizer(\n",
    "    lowercase=True,\n",
    ")\n",
    "tfidf_matrix = tfidf.fit_transform(df['feature'])\n",
    "\n",
    "tfidf_matrix.shape"
   ]
  },
  {
   "cell_type": "markdown",
   "id": "e326de2e",
   "metadata": {},
   "source": [
    "### 7) 유사도 계산"
   ]
  },
  {
   "cell_type": "code",
   "execution_count": 20,
   "id": "e7063dd3",
   "metadata": {},
   "outputs": [
    {
     "data": {
      "text/plain": [
       "(11813, 11813)"
      ]
     },
     "execution_count": 20,
     "metadata": {},
     "output_type": "execute_result"
    }
   ],
   "source": [
    "info_cos_sim = cosine_similarity(tfidf_matrix)\n",
    "\n",
    "info_cos_sim.shape"
   ]
  },
  {
   "cell_type": "markdown",
   "id": "668a3248",
   "metadata": {},
   "source": [
    "### 8) 추천 함수 생성"
   ]
  },
  {
   "cell_type": "code",
   "execution_count": 21,
   "id": "530a3eb8",
   "metadata": {},
   "outputs": [
    {
     "data": {
      "text/plain": [
       "2698                                      Trial Marriages\n",
       "7045                         Simpallag Innondh Love Story\n",
       "5438                                     Anything for You\n",
       "6518                                 Genevieve of Brabant\n",
       "2005    Monty Python's Flying Circus—John Cleese's Per...\n",
       "2628                            Dave & Tim - Storytellers\n",
       "3676                                 Friggin' Mafia Movie\n",
       "3716     Couscous aux lardons : un mariage, deux cultures\n",
       "4632                                    I Fetch the Bread\n",
       "4886                    Juste pour rire 2014 - Les anglos\n",
       "Name: title, dtype: object"
      ]
     },
     "execution_count": 21,
     "metadata": {},
     "output_type": "execute_result"
    }
   ],
   "source": [
    "def info_recommendation(\n",
    "    dataframe: pd.DataFrame, \n",
    "    movie_name: str,\n",
    "    sim_matrix,\n",
    "    top_n: int,\n",
    "    ) -> pd.Series :\n",
    "\n",
    "    # movie_name이 대소문자 구분 없이 필터링되도록 처리\n",
    "    idx = dataframe[dataframe['title'].str.lower() == movie_name.lower()].index[0]\n",
    "\n",
    "    sim_scores = list(enumerate(sim_matrix[idx]))\n",
    "    sim_scores = sorted(sim_scores, key=lambda x:x[1], reverse=True)\n",
    "\n",
    "    movie_idx = [i[0] for i in sim_scores if i[0] != idx][:top_n]\n",
    "\n",
    "    return dataframe['title'].iloc[movie_idx]\n",
    "\n",
    "movie_name = 'titanic'\n",
    "\n",
    "info_recommendation(\n",
    "    dataframe=movies,\n",
    "    movie_name=movie_name,\n",
    "    sim_matrix=info_cos_sim,\n",
    "    top_n=10\n",
    ")"
   ]
  },
  {
   "cell_type": "markdown",
   "id": "68952820",
   "metadata": {},
   "source": [
    "### 9) 유사도 행렬 저장"
   ]
  },
  {
   "cell_type": "code",
   "execution_count": 22,
   "id": "20f33bca",
   "metadata": {},
   "outputs": [
    {
     "data": {
      "text/plain": [
       "['../models/info_cos_sim.pkl']"
      ]
     },
     "execution_count": 22,
     "metadata": {},
     "output_type": "execute_result"
    }
   ],
   "source": [
    "joblib.dump(info_cos_sim, \"../models/info_cos_sim.pkl\")"
   ]
  }
 ],
 "metadata": {
  "kernelspec": {
   "display_name": "lecture",
   "language": "python",
   "name": "python3"
  },
  "language_info": {
   "codemirror_mode": {
    "name": "ipython",
    "version": 3
   },
   "file_extension": ".py",
   "mimetype": "text/x-python",
   "name": "python",
   "nbconvert_exporter": "python",
   "pygments_lexer": "ipython3",
   "version": "3.12.4"
  }
 },
 "nbformat": 4,
 "nbformat_minor": 5
}
