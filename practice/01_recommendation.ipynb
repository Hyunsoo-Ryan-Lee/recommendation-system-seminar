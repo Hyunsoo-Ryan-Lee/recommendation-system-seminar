{
 "cells": [
  {
   "cell_type": "markdown",
   "id": "633fa076",
   "metadata": {},
   "source": [
    "## 0. 데이터 불러오기"
   ]
  },
  {
   "cell_type": "code",
   "execution_count": null,
   "id": "d30a4fab",
   "metadata": {},
   "outputs": [],
   "source": [
    "import pandas as pd\n",
    "import numpy as np\n",
    "from sklearn.feature_extraction.text import TfidfVectorizer\n",
    "from sklearn.metrics.pairwise import cosine_similarity\n",
    "\n",
    "products = pd.read_csv(\"../dataset/products.csv\")\n",
    "users = pd.read_csv(\"../dataset/users.csv\")\n",
    "ratings = pd.read_csv(\"../dataset/ratings.csv\")"
   ]
  },
  {
   "cell_type": "code",
   "execution_count": null,
   "id": "fa485982",
   "metadata": {},
   "outputs": [],
   "source": [
    "print(f\"products: {products.shape}\")\n",
    "display(products.head())\n",
    "\n",
    "print(f\"users: {users.shape}\")\n",
    "display(users.head())\n",
    "\n",
    "print(f\"ratings: {ratings.shape}\")\n",
    "display(ratings.head())"
   ]
  },
  {
   "cell_type": "markdown",
   "id": "6ed3f690",
   "metadata": {},
   "source": [
    "## 1. 내용 기반 추천 (상품 설명 + 태그 + 카테고리 활용)\n",
    "- 속성 기반 매칭 → 동일 속성을 공유하는 아이템을 우선 추천(카테고리/태그 기반 필터링)\n",
    "- 머신러닝 기반 → 아이템의 속성을 독립 변수로, 사용자가 좋아할 확률을 추정\n",
    "- 속성 기반 유사도 → 아이템 관련 속성들 임베딩 후 유사도 측정 방법론 사용"
   ]
  },
  {
   "cell_type": "markdown",
   "id": "d6f12c26",
   "metadata": {},
   "source": [
    "### 1) 데이터 전처리"
   ]
  },
  {
   "cell_type": "code",
   "execution_count": null,
   "id": "750b5da9",
   "metadata": {},
   "outputs": [],
   "source": [
    "# 텍스트 특성 결합\n",
    "# 휴대용, 터치스크린, 최신 기술과 소음 제거 기능 → 휴대용 터치스크린 최신 기술과 소음 제거 기능\n",
    "\n",
    "products[\"features\"] = products[\"description\"] + \" \" + products[\"tags\"].str.replace(\",\", \"\") + \" \" + products[\"category\"]\n",
    "\n",
    "products.head()"
   ]
  },
  {
   "cell_type": "markdown",
   "id": "c74ad52f",
   "metadata": {},
   "source": [
    "### 2) 데이터 벡터화\n",
    "\n",
    "#### [CountVectorizer](https://scikit-learn.org/stable/modules/generated/sklearn.feature_extraction.text.CountVectorizer.html)\n",
    "\n",
    "- Bag of Words(단어들의 출현 빈도에만 집중하는 텍스트 데이터 수치화 표현 방법) 기법을 활용한 벡터화 방식\n",
    "- 문서 내에서 단어의 등장 횟수를 기반으로 벡터를 생성\n",
    "- 빈도만을 고려하기 때문에 모든 단어가 같은 중요도를 가짐\n",
    "- 예시\n",
    "  - 문서: `\"yesterday all my trouble seem so far away\"`\n",
    "  - 단어 사전: `[yesterday, all, my, trouble, seem, far]`\n",
    "  - 벡터: `[1, 1, 1, 1, 1, 1]`(각 단어가 한 번씩 등장했으므로 모두 1)\n",
    "\n",
    "---\n",
    "\n",
    "#### [TfidfVectorizer](https://scikit-learn.org/stable/modules/generated/sklearn.feature_extraction.text.TfidfVectorizer.html)\n",
    "\n",
    "- TF-IDF(Term Frequency-Inverse Document Frequency) 기법을 기반으로 벡터 변환을 수행\n",
    "- 단어의 빈도와 역 문서 빈도를 사용하여 단어들마다 중요한 정도에 따라서 가중치를 부여하는 방법\n",
    "- TF (Term Frequency, 단어 빈도) : 한 문서 안에서 어떤 단어가 얼마나 자주 나오는지를 보는 값\n",
    "- IDF (Inverse Document Frequency, 역문서 빈도) : 흔한 단어일수록 덜 중요하게, 드문 단어일수록 더 중요하게 보정하는 값\n",
    "- 문서에 많이 등장하는 단어는 중요하다고 가정하지만, 모든 문서에 걸쳐 자주 등장하는 단어(the, is, at, this 등)는 정보량이 적기 때문에 가중치가 낮아진다.\n",
    "- 예시\n",
    "  - 문서: `\"yesterday all my trouble seem so far away\"`\n",
    "  - 단어 사전: `[yesterday, all, my, trouble, seem, far]`\n",
    "  - 벡터: `[0.52, 0.30, 0.30, 0.45, 0.45, 0.40]`(`yesterday`, `trouble` 같은 특정성이 높은 단어에 더 큰 가중치가 부여됨)"
   ]
  },
  {
   "cell_type": "code",
   "execution_count": null,
   "id": "8a9c6682",
   "metadata": {},
   "outputs": [],
   "source": [
    "# TfidfVectorizer 적용\n",
    "\n",
    "tfidf = TfidfVectorizer(\n",
    "    ngram_range=(1, 3),\n",
    ")\n",
    "\n",
    "tfidf_matrix = tfidf.fit_transform(products[\"features\"])\n",
    "\n",
    "tfidf_matrix.shape"
   ]
  },
  {
   "cell_type": "markdown",
   "id": "d78b8978",
   "metadata": {},
   "source": [
    "### 3) 유사도 계산 - 코사인 유사도\n",
    "\n",
    "| user_id |  |  |  |  |\n",
    "|----------|-----|-----|-----|-----|\n",
    "| 1        | 5.0 | 4.0 | 3.0 | 0.0 |\n",
    "| 2        | 4.0 | 0.0 | 0.0 | 5.0 |\n",
    "| 3        | 0.0 | 2.0 | 3.0 | 0.0 |\n",
    "| 4        | 5.0 | 0.0 | 4.0 | 2.0 |\n",
    "---\n",
    "#### Step 1: 두 사용자의 평점을 벡터로 표현\n",
    "사용자 1과 사용자 2의 평점 벡터를 추출합니다.\n",
    "\n",
    "- 사용자 1의 벡터 : A = [5.0, 4.0, 3.0, 0.0]\n",
    "- 사용자 2의 벡터 : B = [4.0, 0.0, 0.0, 5.0]\n",
    "---\n",
    "#### Step 2: 벡터 내적 계산\n",
    "각 원소 간의 곱을 더한다.\n",
    "- `A⋅B=(5.0×4.0)+(4.0×0.0)+(3.0×0.0)+(0.0×5.0)=20.0+0.0+0.0+0.0=20.0`\n",
    "---\n",
    "#### Step 3: 벡터의 크기(유클리드 거리) 계산\n",
    "\n",
    "- A_Euclid : `np.sqrt(25 + 14 + 9)`\n",
    "- B_Euclid : `np.sqrt(16 + 25)`\n",
    "---\n",
    "#### Step 4: 코사인 유사도 계산\n",
    "\n",
    "- Cosine Similarity = `A⋅B / (A_Euclid + B_Euclid)`\n",
    "---\n",
    "#### Step 5: 나머지 사용자들에 대해서도 반복\n",
    "- user1 - user1 -> 1\n",
    "- user1 - user2 -> 0.442\n",
    "- user1 - user3 -> 0.667\n",
    "- user1 - user4 -> 0.779\n",
    "- 최종적으로 user1에 대한 코사인 유사도 결과 행 생성 -> [1, 0.442, 0.667, 0.779]"
   ]
  },
  {
   "cell_type": "code",
   "execution_count": null,
   "id": "cf5ae077",
   "metadata": {},
   "outputs": [],
   "source": [
    "# 코사인 유사도 계산\n",
    "cosine_sim = cosine_similarity(tfidf_matrix, tfidf_matrix)\n",
    "\n",
    "print(cosine_sim.shape)\n",
    "\n",
    "cosine_sim[:5, :5]"
   ]
  },
  {
   "cell_type": "code",
   "execution_count": null,
   "id": "dd92ac3e",
   "metadata": {},
   "outputs": [],
   "source": [
    "# 1) 유사도 점수 정렬\n",
    "\n",
    "prod_id = 1\n",
    "\n",
    "sim_scores = list(enumerate(cosine_sim[prod_id-1]))\n",
    "sim_scores = sorted(sim_scores, key=lambda x: x[1], reverse=True)\n",
    "\n",
    "print(sim_scores)"
   ]
  },
  {
   "cell_type": "code",
   "execution_count": null,
   "id": "97ab63e8",
   "metadata": {},
   "outputs": [],
   "source": [
    "# 2) 연관 상품 인덱스 출력 (자기 자신 제외)\n",
    "\n",
    "sim_scores = sim_scores[1:]\n",
    "product_indices = [i[0] for i in sim_scores]\n",
    "\n",
    "print(product_indices)"
   ]
  },
  {
   "cell_type": "markdown",
   "id": "28a708c8",
   "metadata": {},
   "source": [
    "### 4) 추천 함수 생성"
   ]
  },
  {
   "cell_type": "code",
   "execution_count": null,
   "id": "5e308c01",
   "metadata": {},
   "outputs": [],
   "source": [
    "def contents_recommendation(dataframe, sim_matrix, product_id, top_k=7):\n",
    "\n",
    "    # 유사도 점수 정렬\n",
    "    sim_scores = list(enumerate(sim_matrix[product_id-1]))\n",
    "    sim_scores = sorted(sim_scores, key=lambda x: x[1], reverse=True)\n",
    "\n",
    "    # 상위 top_k 추천 (자기 자신 제외)\n",
    "    sim_scores = sim_scores[1:top_k+1]\n",
    "    product_indices = [i[0] for i in sim_scores]\n",
    "\n",
    "    print(f\"기준 상품 : \", dataframe.loc[product_id-1][\"name\"])\n",
    "\n",
    "    return dataframe.iloc[product_indices][[\"product_id\", \"name\", \"category\", \"brand\", \"description\"]]\n",
    "\n",
    "print(\"🔹 콘텐츠 기반 추천\")\n",
    "contents_recommendation(\n",
    "    dataframe=products,\n",
    "    sim_matrix=cosine_sim,\n",
    "    product_id=1,\n",
    "    top_k=7\n",
    "    )"
   ]
  },
  {
   "cell_type": "markdown",
   "id": "fed54480",
   "metadata": {},
   "source": [
    "## 2. 사용자 기반 협업 필터링\n",
    "- 사용자들이 아이템들을 어떻게 평가했는지를 분석하여 비슷하게 분석한 사용자들이 선호하는 아이템을 추천"
   ]
  },
  {
   "cell_type": "markdown",
   "id": "71ab58b7",
   "metadata": {},
   "source": [
    "### 1) USER-ITEM 행렬 생성"
   ]
  },
  {
   "cell_type": "code",
   "execution_count": null,
   "id": "53a1f8b8",
   "metadata": {},
   "outputs": [],
   "source": [
    "user_item_matrix = ratings.pivot_table(\n",
    "    index=\"user_id\",\n",
    "    columns=\"product_id\",\n",
    "    values=\"rating\",\n",
    "    aggfunc=\"mean\",\n",
    "    fill_value=0\n",
    "    )\n",
    "    \n",
    "user_item_matrix"
   ]
  },
  {
   "cell_type": "markdown",
   "id": "69a0b21c",
   "metadata": {},
   "source": [
    "### 2) 유사도 계산"
   ]
  },
  {
   "cell_type": "code",
   "execution_count": null,
   "id": "341d257c",
   "metadata": {},
   "outputs": [],
   "source": [
    "# 코사인 유사도(사용자-사용자)\n",
    "user_sim = cosine_similarity(user_item_matrix)\n",
    "\n",
    "user_sim[:5, :5]"
   ]
  },
  {
   "cell_type": "code",
   "execution_count": null,
   "id": "882b4458",
   "metadata": {},
   "outputs": [],
   "source": [
    "target_user = 13\n",
    "\n",
    "# 유사도 행렬에서는 인덱스가 0부터 시작하기 때문에 사용자 번호에서 1을 뺍니다.\n",
    "sim_scores = list(enumerate(user_sim[target_user-1]))\n",
    "sim_scores = sorted(sim_scores, key=lambda x:x[1], reverse=True)\n",
    "\n",
    "# 자기 자신 제외\n",
    "sim_scores = sim_scores[1:]"
   ]
  },
  {
   "cell_type": "code",
   "execution_count": null,
   "id": "e3e457b1",
   "metadata": {},
   "outputs": [],
   "source": [
    "# 사용자가 구매한 아이템 ID 추출\n",
    "purchased_item = [i[0]+1 for i in list(enumerate(user_item_matrix.loc[target_user])) if i[1] != 0]\n",
    "\n",
    "# 유사도가 높은 아이템 ID 추출\n",
    "product_indices = [i[0]+1 for i in sim_scores]"
   ]
  },
  {
   "cell_type": "code",
   "execution_count": null,
   "id": "e9e0e1c4",
   "metadata": {},
   "outputs": [],
   "source": [
    "# 사용자가 구매하지 않은 추천 아이템 ID 추출\n",
    "new_item = [i for i in product_indices if i not in purchased_item]\n",
    "\n",
    "print(new_item)"
   ]
  },
  {
   "cell_type": "code",
   "execution_count": null,
   "id": "ff65fadd",
   "metadata": {},
   "outputs": [],
   "source": [
    "# 상품 테이블에서 해당 상품 정보 출력\n",
    "\n",
    "products.set_index('product_id').loc[new_item].reset_index()\n"
   ]
  },
  {
   "cell_type": "markdown",
   "id": "8a4dd213",
   "metadata": {},
   "source": [
    "### 3) 추천 함수 생성"
   ]
  },
  {
   "cell_type": "code",
   "execution_count": null,
   "id": "261e2d6f",
   "metadata": {},
   "outputs": [],
   "source": [
    "# 사용자 기반 협업 필터링 추천 함수 생성\n",
    "\n",
    "def user_col_filtering(dataframe, sim_matrix, user_id, top_k=7):\n",
    "\n",
    "    sim_scores = list(enumerate(sim_matrix[user_id-1]))\n",
    "    sim_scores = sorted(sim_scores, key=lambda x:x[1], reverse=True)\n",
    "    \n",
    "    # 상위 top_k 추천 (자기 자신 제외)\n",
    "    sim_scores = sim_scores[1:top_k+1]\n",
    "\n",
    "    purchased_item = [i[0]+1 for i in list(enumerate(user_item_matrix.loc[user_id])) if i[1] != 0]\n",
    "\n",
    "    product_indices = [i[0]+1 for i in sim_scores]        \n",
    "\n",
    "    # 사용자가 구매하지 않은 추천 아이템 ID 추출\n",
    "    new_item = [i for i in product_indices if i not in purchased_item]\n",
    "    \n",
    "    # 추천 상품이 모두 사용자가 구매한 상품인 경우에는 추천 아이템 중 상위 3개 출력\n",
    "    if not new_item:\n",
    "        new_item = product_indices[:3]\n",
    "    \n",
    "    user_id_info = tuple(users[users[\"user_id\"] == user_id].iloc[0].tolist())\n",
    "    print(f\"기준 유저 : {user_id_info}\")\n",
    "\n",
    "    # new_item 순서대로 물품 디테일 return\n",
    "    return dataframe.set_index('product_id').loc[new_item].reset_index()\n",
    "\n",
    "user_col_filtering(\n",
    "    dataframe=products,\n",
    "    sim_matrix=user_sim,\n",
    "    user_id=12,\n",
    "    top_k=7\n",
    ")"
   ]
  },
  {
   "cell_type": "markdown",
   "id": "f98b0399",
   "metadata": {},
   "source": [
    "## 3. 아이템 기반 협업 필터링\n",
    "- 사용자들이 아이템들을 어떻게 평가했는지를 분석하여 비슷한 흐름으로 평가받은 아이템을 추천"
   ]
  },
  {
   "cell_type": "markdown",
   "id": "e285412b",
   "metadata": {},
   "source": [
    "### 1) 유사도 계산"
   ]
  },
  {
   "cell_type": "code",
   "execution_count": null,
   "id": "b3e56eea",
   "metadata": {},
   "outputs": [],
   "source": [
    "# 아이템을 기준으로 계산하기 위해 행렬을 전치하여 코사인 유사도 함수에 적용\n",
    "\n",
    "item_sim = cosine_similarity(user_item_matrix.T)\n",
    "\n",
    "item_sim[:5, :5]"
   ]
  },
  {
   "cell_type": "code",
   "execution_count": null,
   "id": "34884e0f",
   "metadata": {},
   "outputs": [],
   "source": [
    "# 특정 아이템을 검색했을 때 그와 연관된 아이템들이 추천되도록!\n",
    "\n",
    "target_item = 8\n",
    "\n",
    "# 유사도 행렬에서는 인덱스가 0부터 시작하기 때문에 사용자 번호에서 1을 뺍니다.\n",
    "sim_scores = list(enumerate(item_sim[target_item-1]))\n",
    "sim_scores = sorted(sim_scores, key=lambda x:x[1], reverse=True)\n",
    "\n",
    "# 자기 자신 제외\n",
    "sim_scores = sim_scores[1:]\n",
    "\n",
    "# 유사도가 높은 아이템 ID 추출\n",
    "product_indices = [i[0]+1 for i in sim_scores]\n",
    "\n",
    "product_indices"
   ]
  },
  {
   "cell_type": "code",
   "execution_count": null,
   "id": "92f17de2",
   "metadata": {},
   "outputs": [],
   "source": [
    "# 상품 테이블에서 TOP5 상품 정보 출력\n",
    "\n",
    "products[products['product_id'].isin(product_indices)][:5]"
   ]
  },
  {
   "cell_type": "markdown",
   "id": "e90de393",
   "metadata": {},
   "source": [
    "### 2) 추천 함수 생성"
   ]
  },
  {
   "cell_type": "code",
   "execution_count": null,
   "id": "990200d2",
   "metadata": {},
   "outputs": [],
   "source": [
    "def item_col_filtering(dataframe, sim_matrix, product_id, top_k=7):\n",
    "    \n",
    "    sim_scores = list(enumerate(sim_matrix[product_id-1]))\n",
    "    sim_scores = sorted(sim_scores, key=lambda x:x[1], reverse=True)\n",
    "    \n",
    "    # 상위 top_k 추천 (자기 자신 제외)\n",
    "    sim_scores = sim_scores[1:top_k+1]\n",
    "    \n",
    "    product_indices = [i[0]+1 for i in sim_scores]\n",
    "    \n",
    "    print(f\"기준 상품 : {dataframe[dataframe['product_id'] == product_id]['name'].values[0]}\")\n",
    "\n",
    "    return dataframe.set_index('product_id').loc[product_indices].reset_index()[:5]\n",
    "\n",
    "item_col_filtering(\n",
    "    dataframe=products,\n",
    "    sim_matrix=item_sim,\n",
    "    product_id=12,\n",
    "    top_k=7\n",
    ")"
   ]
  },
  {
   "cell_type": "markdown",
   "id": "f6400595",
   "metadata": {},
   "source": [
    "## 4. 하이브리드 추천 (콘텐츠 기반 + 협업 필터링 결합)\n",
    "- 내용 기반 추천 + 유저 기반 협업필터링 + 아이템 기반 협업필터링\n",
    "- 세 가지 방법들에 각각 일정 가중치를 부여하여 최종 상품을 추천"
   ]
  },
  {
   "cell_type": "code",
   "execution_count": null,
   "id": "3678a3b3",
   "metadata": {},
   "outputs": [],
   "source": [
    "target_item = 1\n",
    "target_user = 10\n",
    "\n",
    "content_rec = contents_recommendation(\n",
    "    dataframe=products,\n",
    "    sim_matrix=cosine_sim,\n",
    "    product_id=target_item,\n",
    "    )\n",
    "\n",
    "user_rec = user_col_filtering(\n",
    "    dataframe=products,\n",
    "    sim_matrix=user_sim,\n",
    "    user_id=target_user,\n",
    "    )\n",
    "\n",
    "item_rec = item_col_filtering(\n",
    "    dataframe=products,\n",
    "    sim_matrix=item_sim,\n",
    "    product_id=target_item,\n",
    "    )"
   ]
  },
  {
   "cell_type": "code",
   "execution_count": null,
   "id": "ddee5e96",
   "metadata": {},
   "outputs": [],
   "source": [
    "from collections import Counter\n",
    "\n",
    "def hybrid_recommend(dataframe, rec1, rec2, rec3, top_k=5, **alpha):\n",
    "    \n",
    "    weight1 = alpha.get('weight1')\n",
    "    weight2 = alpha.get('weight2')\n",
    "    weight3 = alpha.get('weight3')\n",
    "    \n",
    "    # 1. 추천된 상품들을 하나의 리스트로 합치기\n",
    "    all_products = []\n",
    "    \n",
    "    all_products = rec1['product_id'].tolist()*weight1 \\\n",
    "        + rec2['product_id'].tolist()*weight2 \\\n",
    "        + rec3['product_id'].tolist()*weight3\n",
    "        \n",
    "    # 2. 상품별 등장 횟수 계산 (가중치 합산)\n",
    "    product_counts = Counter(all_products)\n",
    "    \n",
    "    # 3. 등장 횟수 순으로 정렬하여 상위 top_k개 선택\n",
    "    top_products = [prod_id for prod_id, count in product_counts.most_common(top_k)]\n",
    "\n",
    "    # 4. 상품 정보 반환\n",
    "    result = dataframe[dataframe['product_id'].isin(top_products)].copy()\n",
    "    result['recommendation_score'] = result['product_id'].map(product_counts)\n",
    "    \n",
    "    return result[['product_id', 'name', 'category', 'brand', 'recommendation_score']].sort_values('recommendation_score', ascending=False)\n",
    "\n",
    "print(\"🔹 하이브리드 추천\")\n",
    "alpha = dict(weight1=3, weight2=1, weight3=2)\n",
    "\n",
    "hybrid_recommend(\n",
    "    dataframe = products,\n",
    "    rec1 = content_rec,\n",
    "    rec2 = user_rec,\n",
    "    rec3 = item_rec,\n",
    "    **alpha\n",
    "    )"
   ]
  }
 ],
 "metadata": {
  "kernelspec": {
   "display_name": "lecture",
   "language": "python",
   "name": "python3"
  },
  "language_info": {
   "codemirror_mode": {
    "name": "ipython",
    "version": 3
   },
   "file_extension": ".py",
   "mimetype": "text/x-python",
   "name": "python",
   "nbconvert_exporter": "python",
   "pygments_lexer": "ipython3",
   "version": "3.12.4"
  }
 },
 "nbformat": 4,
 "nbformat_minor": 5
}
