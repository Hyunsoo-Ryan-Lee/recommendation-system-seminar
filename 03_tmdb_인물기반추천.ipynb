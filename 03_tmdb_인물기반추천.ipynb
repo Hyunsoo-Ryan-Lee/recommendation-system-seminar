{
 "cells": [
  {
   "cell_type": "markdown",
   "id": "89f40372",
   "metadata": {},
   "source": [
    "## 영화 인물 관련 정보(감독, 등장인물 등) 기반 추천 모델 구현\n",
    "\n",
    "### 0) 데이터셋 설명\n",
    "#### tmdb_movies\n",
    "- id : 각 영화에 대한 고유 ID\n",
    "- title : 영화 제목\n",
    "- runtime : 상영 시간\n",
    "- genres : 영화 장르\n",
    "- overview : 영화에 대한 간략한 설명\n",
    "- popularity : TMDB에서 제공하는 인기도\n",
    "- vote_avearage : TMDB에서 받은 평점 평균\n",
    "- vote_count : TMDB에서 받은 투표수\n",
    "\n",
    "#### tmdb_credits\n",
    "- movie_id : 각 영화에 대한 고유 ID\n",
    "- cast : 모든 출연진\n",
    "- crew : 모든 제작진"
   ]
  },
  {
   "cell_type": "code",
   "execution_count": null,
   "id": "ad7d71c3",
   "metadata": {},
   "outputs": [],
   "source": [
    "import pandas as pd\n",
    "import joblib\n",
    "from sklearn.feature_extraction.text import TfidfVectorizer\n",
    "from sklearn.metrics.pairwise import cosine_similarity"
   ]
  },
  {
   "cell_type": "code",
   "execution_count": null,
   "id": "524b092e",
   "metadata": {},
   "outputs": [],
   "source": [
    "movies = pd.read_parquet('dataset/tmdb_movies.parquet')\n",
    "credits = pd.read_parquet('dataset/tmdb_credits.parquet')\n",
    "\n",
    "print(f\"movies: {movies.shape}\")\n",
    "display(movies.head())\n",
    "\n",
    "print(f\"credits: {credits.shape}\")\n",
    "display(credits.head())"
   ]
  },
  {
   "cell_type": "markdown",
   "id": "7378d4d3",
   "metadata": {},
   "source": [
    "### 1) 데이터 전처리"
   ]
  },
  {
   "cell_type": "code",
   "execution_count": null,
   "id": "1cbfe5eb",
   "metadata": {},
   "outputs": [],
   "source": [
    "df = movies.merge(credits, on='id')"
   ]
  },
  {
   "cell_type": "code",
   "execution_count": null,
   "id": "ad6b6283",
   "metadata": {},
   "outputs": [],
   "source": [
    "# 필요 컬럼 추출\n",
    "\n",
    "info_col = ['genres', 'cast', 'crew']\n",
    "\n",
    "df = df[info_col]\n",
    "\n",
    "df.head()"
   ]
  },
  {
   "cell_type": "code",
   "execution_count": null,
   "id": "de22fa93",
   "metadata": {},
   "outputs": [],
   "source": [
    "# 각 컬럼의 문자열을 list 형식으로 변환\n",
    "\n",
    "for col in info_col:\n",
    "    df[col] = df[col].apply(eval)\n",
    "    \n",
    "df.dtypes"
   ]
  },
  {
   "cell_type": "markdown",
   "id": "b9e1dba8",
   "metadata": {},
   "source": [
    "### 2) genre 컬럼 전처리"
   ]
  },
  {
   "cell_type": "code",
   "execution_count": null,
   "id": "fc377139",
   "metadata": {},
   "outputs": [],
   "source": [
    "# 장르 추출하여 'genre_names' 컬럼에 저장\n",
    "\n",
    "def get_genre_names(val):\n",
    "        return ' '.join([i.get('name','').lower() for i in val])\n",
    "\n",
    "df['genres'] = df['genres'].apply(get_genre_names)"
   ]
  },
  {
   "cell_type": "code",
   "execution_count": null,
   "id": "5017be75",
   "metadata": {},
   "outputs": [],
   "source": [
    "df.head()"
   ]
  },
  {
   "cell_type": "markdown",
   "id": "d38de9b6",
   "metadata": {},
   "source": [
    "### 3) cast 컬럼 전처리"
   ]
  },
  {
   "cell_type": "code",
   "execution_count": null,
   "id": "36a876cf",
   "metadata": {},
   "outputs": [],
   "source": [
    "import re\n",
    "\n",
    "# cast 컬럼의 값에서 name 키만 추출하여 빈칸 기준으로 join하는 함수\n",
    "def extract_cast(val):\n",
    "    # val이 리스트가 아닐 경우(결측치 등) 예외 처리\n",
    "    if not isinstance(val, list):\n",
    "        return_val =  \"\"\n",
    "    \n",
    "    # name 키의 값을 추출하여 빈킨 기준으로 join\n",
    "    names = [i.get('name', '').lower().strip().replace(\" \", \"\") for i in val]\n",
    "    \n",
    "    # 알파벳과 숫자를 제외한 모든 문자를 제거하는 정규표현식 적용(특수문자, 공백 등을 모두 제거)\n",
    "    names = [re.sub(r'[^a-zA-Z0-9]', '',i) for i in names]\n",
    "    \n",
    "    # 등장 인물 6명까지만 포함\n",
    "    if len(names) > 6:\n",
    "        names = names[:6]\n",
    "    \n",
    "    return_val = ' '.join(names)\n",
    "    \n",
    "    return return_val\n",
    "    \n",
    "df['cast'] = df['cast'].apply(extract_cast)"
   ]
  },
  {
   "cell_type": "code",
   "execution_count": null,
   "id": "74ae54d1",
   "metadata": {},
   "outputs": [],
   "source": [
    "df.head(5)"
   ]
  },
  {
   "cell_type": "markdown",
   "id": "3ccc7db9",
   "metadata": {},
   "source": [
    "### 4) crew 컬럼 전처리"
   ]
  },
  {
   "cell_type": "code",
   "execution_count": null,
   "id": "aeb7fff7",
   "metadata": {},
   "outputs": [],
   "source": [
    "print(df['crew'].iloc[10])"
   ]
  },
  {
   "cell_type": "code",
   "execution_count": null,
   "id": "8921eec5",
   "metadata": {},
   "outputs": [],
   "source": [
    "# crew 컬럼에서 director 키의 값만 추출\n",
    "def extract_crew(val):\n",
    "    # val이 리스트가 아닐 경우(결측치 등) 예외 처리\n",
    "    if not isinstance(val, list):\n",
    "        return \"\"\n",
    "    for i in val:\n",
    "        if i['job'] == 'Director':\n",
    "            return i['name'].lower().strip().replace(\" \", \"\")\n",
    "\n",
    "df['crew'] = df['crew'].apply(extract_crew)"
   ]
  },
  {
   "cell_type": "code",
   "execution_count": null,
   "id": "3f8be694",
   "metadata": {},
   "outputs": [],
   "source": [
    "df.head()"
   ]
  },
  {
   "cell_type": "markdown",
   "id": "e67224e5",
   "metadata": {},
   "source": [
    "### 5) feature 컬럼 생성 (genre + cast + crew)"
   ]
  },
  {
   "cell_type": "code",
   "execution_count": null,
   "id": "60c3ee1c",
   "metadata": {},
   "outputs": [],
   "source": [
    "# genres, cast, crew 컬럼을 빈칸 기준으로 합쳐서 feature 컬럼 생성\n",
    "df['feature'] = df['genres'].astype(str) + ' ' + df['cast'].astype(str) + ' ' + df['crew'].astype(str)\n",
    "\n",
    "df.head()"
   ]
  },
  {
   "cell_type": "markdown",
   "id": "e2579d28",
   "metadata": {},
   "source": [
    "### 6) 데이터 벡터화"
   ]
  },
  {
   "cell_type": "code",
   "execution_count": null,
   "id": "fa39354a",
   "metadata": {},
   "outputs": [],
   "source": [
    "## TF-IDF 벡터화\n",
    "\n",
    "tfidf = TfidfVectorizer(\n",
    "    lowercase=True,\n",
    ")\n",
    "tfidf_matrix = tfidf.fit_transform(df['feature'])\n",
    "\n",
    "tfidf_matrix.shape"
   ]
  },
  {
   "cell_type": "markdown",
   "id": "e326de2e",
   "metadata": {},
   "source": [
    "### 7) 유사도 계산"
   ]
  },
  {
   "cell_type": "code",
   "execution_count": null,
   "id": "e7063dd3",
   "metadata": {},
   "outputs": [],
   "source": [
    "info_cos_sim = cosine_similarity(tfidf_matrix)\n",
    "\n",
    "info_cos_sim.shape"
   ]
  },
  {
   "cell_type": "markdown",
   "id": "668a3248",
   "metadata": {},
   "source": [
    "### 8) 추천 함수 생성"
   ]
  },
  {
   "cell_type": "code",
   "execution_count": null,
   "id": "530a3eb8",
   "metadata": {},
   "outputs": [],
   "source": [
    "def info_recommendation(\n",
    "    dataframe: pd.DataFrame, \n",
    "    movie_name: str,\n",
    "    sim_matrix,\n",
    "    top_n: int,\n",
    "    ) -> pd.Series :\n",
    "\n",
    "    # movie_name이 대소문자 구분 없이 필터링되도록 처리\n",
    "    idx = dataframe[dataframe['title'].str.lower() == movie_name.lower()].index[0]\n",
    "\n",
    "    sim_scores = list(enumerate(sim_matrix[idx]))\n",
    "    sim_scores = sorted(sim_scores, key=lambda x:x[1], reverse=True)\n",
    "\n",
    "    movie_idx = [i[0] for i in sim_scores if i[0] != idx][:top_n]\n",
    "\n",
    "    return dataframe['title'].iloc[movie_idx]\n",
    "\n",
    "movie_name = 'titanic'\n",
    "\n",
    "info_recommendation(\n",
    "    dataframe=movies,\n",
    "    movie_name=movie_name,\n",
    "    sim_matrix=info_cos_sim,\n",
    "    top_n=10\n",
    ")"
   ]
  },
  {
   "cell_type": "markdown",
   "id": "68952820",
   "metadata": {},
   "source": [
    "### 9) 유사도 행렬 저장"
   ]
  },
  {
   "cell_type": "code",
   "execution_count": null,
   "id": "20f33bca",
   "metadata": {},
   "outputs": [],
   "source": [
    "joblib.dump(info_cos_sim, \"models/info_cos_sim.pkl\")"
   ]
  }
 ],
 "metadata": {
  "kernelspec": {
   "display_name": "lecture",
   "language": "python",
   "name": "python3"
  },
  "language_info": {
   "codemirror_mode": {
    "name": "ipython",
    "version": 3
   },
   "file_extension": ".py",
   "mimetype": "text/x-python",
   "name": "python",
   "nbconvert_exporter": "python",
   "pygments_lexer": "ipython3",
   "version": "3.12.4"
  }
 },
 "nbformat": 4,
 "nbformat_minor": 5
}
